{
 "cells": [
  {
   "cell_type": "markdown",
   "metadata": {
    "id": "Q-BghAHcDmAz"
   },
   "source": [
    "## 3-Sigma Technique (Standard Deviation)"
   ]
  },
  {
   "cell_type": "code",
   "execution_count": 1,
   "metadata": {
    "id": "J_qJkDofDmA0"
   },
   "outputs": [],
   "source": [
    "import numpy as np\n",
    "import matplotlib.pyplot as plt\n",
    "import statistics\n",
    "import pandas as pd"
   ]
  },
  {
   "cell_type": "code",
   "execution_count": null,
   "metadata": {
    "colab": {
     "base_uri": "https://localhost:8080/"
    },
    "id": "VZen4TNTPwsP",
    "outputId": "d08a2b97-5f8f-4995-97b6-ee404dfee4ad"
   },
   "outputs": [],
   "source": []
  },
  {
   "cell_type": "code",
   "execution_count": 2,
   "metadata": {
    "id": "cm6KGEeKP4k6"
   },
   "outputs": [],
   "source": [
    "data = pd.read_csv(\"C:\\\\Users\\\\Smit Bhoir\\\\Desktop\\\\Placements\\\\Study content\\\\EDA\\\\raw_sales.csv\")"
   ]
  },
  {
   "cell_type": "code",
   "execution_count": 3,
   "metadata": {
    "colab": {
     "base_uri": "https://localhost:8080/",
     "height": 206
    },
    "id": "pT6z0qoWf7uT",
    "outputId": "2c6dc4cf-0827-4760-d1af-2db323c04dd6"
   },
   "outputs": [
    {
     "data": {
      "text/html": [
       "<div>\n",
       "<style scoped>\n",
       "    .dataframe tbody tr th:only-of-type {\n",
       "        vertical-align: middle;\n",
       "    }\n",
       "\n",
       "    .dataframe tbody tr th {\n",
       "        vertical-align: top;\n",
       "    }\n",
       "\n",
       "    .dataframe thead th {\n",
       "        text-align: right;\n",
       "    }\n",
       "</style>\n",
       "<table border=\"1\" class=\"dataframe\">\n",
       "  <thead>\n",
       "    <tr style=\"text-align: right;\">\n",
       "      <th></th>\n",
       "      <th>datesold</th>\n",
       "      <th>postcode</th>\n",
       "      <th>price</th>\n",
       "      <th>propertyType</th>\n",
       "      <th>bedrooms</th>\n",
       "    </tr>\n",
       "  </thead>\n",
       "  <tbody>\n",
       "    <tr>\n",
       "      <th>0</th>\n",
       "      <td>2007-02-07 00:00:00</td>\n",
       "      <td>2607</td>\n",
       "      <td>525000</td>\n",
       "      <td>house</td>\n",
       "      <td>4</td>\n",
       "    </tr>\n",
       "    <tr>\n",
       "      <th>1</th>\n",
       "      <td>2007-02-27 00:00:00</td>\n",
       "      <td>2906</td>\n",
       "      <td>290000</td>\n",
       "      <td>house</td>\n",
       "      <td>3</td>\n",
       "    </tr>\n",
       "    <tr>\n",
       "      <th>2</th>\n",
       "      <td>2007-03-07 00:00:00</td>\n",
       "      <td>2905</td>\n",
       "      <td>328000</td>\n",
       "      <td>house</td>\n",
       "      <td>3</td>\n",
       "    </tr>\n",
       "    <tr>\n",
       "      <th>3</th>\n",
       "      <td>2007-03-09 00:00:00</td>\n",
       "      <td>2905</td>\n",
       "      <td>380000</td>\n",
       "      <td>house</td>\n",
       "      <td>4</td>\n",
       "    </tr>\n",
       "    <tr>\n",
       "      <th>4</th>\n",
       "      <td>2007-03-21 00:00:00</td>\n",
       "      <td>2906</td>\n",
       "      <td>310000</td>\n",
       "      <td>house</td>\n",
       "      <td>3</td>\n",
       "    </tr>\n",
       "  </tbody>\n",
       "</table>\n",
       "</div>"
      ],
      "text/plain": [
       "              datesold  postcode   price propertyType  bedrooms\n",
       "0  2007-02-07 00:00:00      2607  525000        house         4\n",
       "1  2007-02-27 00:00:00      2906  290000        house         3\n",
       "2  2007-03-07 00:00:00      2905  328000        house         3\n",
       "3  2007-03-09 00:00:00      2905  380000        house         4\n",
       "4  2007-03-21 00:00:00      2906  310000        house         3"
      ]
     },
     "execution_count": 3,
     "metadata": {},
     "output_type": "execute_result"
    }
   ],
   "source": [
    "data.head(5)"
   ]
  },
  {
   "cell_type": "code",
   "execution_count": 4,
   "metadata": {
    "colab": {
     "base_uri": "https://localhost:8080/"
    },
    "id": "W93QHB1hotTK",
    "outputId": "92cc69e7-e51e-4c26-c7e0-6ea086e2dca6"
   },
   "outputs": [
    {
     "data": {
      "text/plain": [
       "pandas.core.frame.DataFrame"
      ]
     },
     "execution_count": 4,
     "metadata": {},
     "output_type": "execute_result"
    }
   ],
   "source": [
    "type(data)"
   ]
  },
  {
   "cell_type": "code",
   "execution_count": 5,
   "metadata": {
    "colab": {
     "base_uri": "https://localhost:8080/",
     "height": 206
    },
    "id": "LybWJg56P921",
    "outputId": "57433d7b-484e-42ff-e229-33eab502ae70"
   },
   "outputs": [
    {
     "data": {
      "text/html": [
       "<div>\n",
       "<style scoped>\n",
       "    .dataframe tbody tr th:only-of-type {\n",
       "        vertical-align: middle;\n",
       "    }\n",
       "\n",
       "    .dataframe tbody tr th {\n",
       "        vertical-align: top;\n",
       "    }\n",
       "\n",
       "    .dataframe thead th {\n",
       "        text-align: right;\n",
       "    }\n",
       "</style>\n",
       "<table border=\"1\" class=\"dataframe\">\n",
       "  <thead>\n",
       "    <tr style=\"text-align: right;\">\n",
       "      <th></th>\n",
       "      <th>datesold</th>\n",
       "      <th>postcode</th>\n",
       "      <th>price</th>\n",
       "      <th>propertyType</th>\n",
       "      <th>bedrooms</th>\n",
       "    </tr>\n",
       "  </thead>\n",
       "  <tbody>\n",
       "    <tr>\n",
       "      <th>0</th>\n",
       "      <td>2007-02-07 00:00:00</td>\n",
       "      <td>2607</td>\n",
       "      <td>525000</td>\n",
       "      <td>house</td>\n",
       "      <td>4</td>\n",
       "    </tr>\n",
       "    <tr>\n",
       "      <th>1</th>\n",
       "      <td>2007-02-27 00:00:00</td>\n",
       "      <td>2906</td>\n",
       "      <td>290000</td>\n",
       "      <td>house</td>\n",
       "      <td>3</td>\n",
       "    </tr>\n",
       "    <tr>\n",
       "      <th>2</th>\n",
       "      <td>2007-03-07 00:00:00</td>\n",
       "      <td>2905</td>\n",
       "      <td>328000</td>\n",
       "      <td>house</td>\n",
       "      <td>3</td>\n",
       "    </tr>\n",
       "    <tr>\n",
       "      <th>3</th>\n",
       "      <td>2007-03-09 00:00:00</td>\n",
       "      <td>2905</td>\n",
       "      <td>380000</td>\n",
       "      <td>house</td>\n",
       "      <td>4</td>\n",
       "    </tr>\n",
       "    <tr>\n",
       "      <th>4</th>\n",
       "      <td>2007-03-21 00:00:00</td>\n",
       "      <td>2906</td>\n",
       "      <td>310000</td>\n",
       "      <td>house</td>\n",
       "      <td>3</td>\n",
       "    </tr>\n",
       "  </tbody>\n",
       "</table>\n",
       "</div>"
      ],
      "text/plain": [
       "              datesold  postcode   price propertyType  bedrooms\n",
       "0  2007-02-07 00:00:00      2607  525000        house         4\n",
       "1  2007-02-27 00:00:00      2906  290000        house         3\n",
       "2  2007-03-07 00:00:00      2905  328000        house         3\n",
       "3  2007-03-09 00:00:00      2905  380000        house         4\n",
       "4  2007-03-21 00:00:00      2906  310000        house         3"
      ]
     },
     "execution_count": 5,
     "metadata": {},
     "output_type": "execute_result"
    }
   ],
   "source": [
    "data.head(5)"
   ]
  },
  {
   "cell_type": "code",
   "execution_count": 6,
   "metadata": {
    "id": "fUM_wjV0DmA2"
   },
   "outputs": [],
   "source": [
    "# Function to Detection Outlier on one-dimentional datasets.\n",
    "def find_anomalies(data):\n",
    "    #define a list to accumlate anomalies\n",
    "    anomalies = []\n",
    "    \n",
    "    # Set upper and lower limit to 3 standard deviation\n",
    "    random_data_std = statistics.stdev(data)\n",
    "    random_data_mean = statistics.mean(data)\n",
    "    # 3-standard deviation\n",
    "    \n",
    "    anomaly_cut_off = random_data_std * 3                # 3 sigma\n",
    "    \n",
    "    lower_limit  = random_data_mean - anomaly_cut_off      # u -3sigma\n",
    "    upper_limit = random_data_mean + anomaly_cut_off       # u +3sigma\n",
    "    \n",
    "    # Generate outliers\n",
    "    for outlier in data:\n",
    "        if outlier > upper_limit or outlier < lower_limit:\n",
    "            anomalies.append(outlier)\n",
    "    return anomalies"
   ]
  },
  {
   "cell_type": "code",
   "execution_count": 7,
   "metadata": {
    "colab": {
     "base_uri": "https://localhost:8080/"
    },
    "id": "PLuvJncpDmA2",
    "outputId": "9084cee5-0dda-41b5-cf90-a67b18360152"
   },
   "outputs": [
    {
     "data": {
      "text/plain": [
       "0        525000\n",
       "1        290000\n",
       "2        328000\n",
       "3        380000\n",
       "4        310000\n",
       "          ...  \n",
       "29575    500000\n",
       "29576    560000\n",
       "29577    464950\n",
       "29578    589000\n",
       "29579    775000\n",
       "Name: price, Length: 29580, dtype: int64"
      ]
     },
     "execution_count": 7,
     "metadata": {},
     "output_type": "execute_result"
    }
   ],
   "source": [
    "data.price"
   ]
  },
  {
   "cell_type": "code",
   "execution_count": 8,
   "metadata": {
    "id": "wZuBLU81DmA2"
   },
   "outputs": [],
   "source": [
    "list_1 = find_anomalies(data['price'])"
   ]
  },
  {
   "cell_type": "code",
   "execution_count": 9,
   "metadata": {
    "colab": {
     "base_uri": "https://localhost:8080/"
    },
    "id": "cmDjTUS8rVwk",
    "outputId": "f0c0642a-20cf-42f5-97bf-ef70608e76db"
   },
   "outputs": [
    {
     "data": {
      "text/plain": [
       "461"
      ]
     },
     "execution_count": 9,
     "metadata": {},
     "output_type": "execute_result"
    }
   ],
   "source": [
    "len(list_1) # for normally distribution condition is 0.3% but here (461/29580)*100= 1.5% \n",
    "# 99.7% of data should lie in +- 3sigma"
   ]
  },
  {
   "cell_type": "code",
   "execution_count": 10,
   "metadata": {
    "colab": {
     "base_uri": "https://localhost:8080/"
    },
    "id": "YqnA1DsorXaX",
    "outputId": "fb888a26-43d1-471c-d116-c39f7913cab8"
   },
   "outputs": [
    {
     "data": {
      "text/plain": [
       "29580"
      ]
     },
     "execution_count": 10,
     "metadata": {},
     "output_type": "execute_result"
    }
   ],
   "source": [
    "len(data)"
   ]
  },
  {
   "cell_type": "code",
   "execution_count": 11,
   "metadata": {
    "colab": {
     "base_uri": "https://localhost:8080/"
    },
    "id": "NP50dabyQK0o",
    "outputId": "ff1ec397-8a7f-48bd-87f3-23560a2ec694"
   },
   "outputs": [
    {
     "data": {
      "text/plain": [
       "4.312009366902366"
      ]
     },
     "execution_count": 11,
     "metadata": {},
     "output_type": "execute_result"
    }
   ],
   "source": [
    "data.price.skew()    # data is positively skewed"
   ]
  },
  {
   "cell_type": "code",
   "execution_count": 12,
   "metadata": {
    "id": "XuRgrhjkQN-H"
   },
   "outputs": [],
   "source": [
    "import seaborn as sns"
   ]
  },
  {
   "cell_type": "code",
   "execution_count": 13,
   "metadata": {
    "colab": {
     "base_uri": "https://localhost:8080/",
     "height": 308
    },
    "id": "RTcR26rJQPuo",
    "outputId": "136bdef8-e262-4095-8765-d073981ee9fd"
   },
   "outputs": [
    {
     "data": {
      "text/plain": [
       "<AxesSubplot:xlabel='price', ylabel='Density'>"
      ]
     },
     "execution_count": 13,
     "metadata": {},
     "output_type": "execute_result"
    },
    {
     "data": {
      "image/png": "[encoded data removed]",
      "text/plain": [
       "<Figure size 640x480 with 1 Axes>"
      ]
     },
     "metadata": {},
     "output_type": "display_data"
    }
   ],
   "source": [
    "sns.kdeplot(data.price)"
   ]
  },
  {
   "cell_type": "code",
   "execution_count": 14,
   "metadata": {
    "id": "zERk_Jg7QPxP"
   },
   "outputs": [],
   "source": [
    "data['price_transformed'] = np.log(data.price)    # transformin data to logarthmic scale"
   ]
  },
  {
   "cell_type": "code",
   "execution_count": 15,
   "metadata": {
    "colab": {
     "base_uri": "https://localhost:8080/"
    },
    "id": "1-e1unSsQZJx",
    "outputId": "bcf4a85c-cf6a-4d70-b0ee-c0bba3f8a45d"
   },
   "outputs": [
    {
     "data": {
      "text/plain": [
       "0.4731646269984763"
      ]
     },
     "execution_count": 15,
     "metadata": {},
     "output_type": "execute_result"
    }
   ],
   "source": [
    "data.price_transformed.skew()  # now we can see that data is less skewed"
   ]
  },
  {
   "cell_type": "code",
   "execution_count": 16,
   "metadata": {
    "id": "l6F5p3wxQcLT"
   },
   "outputs": [],
   "source": [
    "list_2 = find_anomalies(data.price_transformed)"
   ]
  },
  {
   "cell_type": "code",
   "execution_count": 17,
   "metadata": {
    "colab": {
     "base_uri": "https://localhost:8080/"
    },
    "id": "XY9hu0CAsMD5",
    "outputId": "49349a35-cb37-4784-946f-23d4b8aa6d7e"
   },
   "outputs": [
    {
     "data": {
      "text/plain": [
       "266"
      ]
     },
     "execution_count": 17,
     "metadata": {},
     "output_type": "execute_result"
    }
   ],
   "source": [
    "len(list_2)   #266/29580= 0.8% stil data is not normally dist"
   ]
  },
  {
   "cell_type": "code",
   "execution_count": 18,
   "metadata": {
    "colab": {
     "base_uri": "https://localhost:8080/"
    },
    "id": "6T_GLifosZz9",
    "outputId": "a42489ed-f907-485f-86b4-7d42bae7401c"
   },
   "outputs": [
    {
     "data": {
      "text/plain": [
       "29580"
      ]
     },
     "execution_count": 18,
     "metadata": {},
     "output_type": "execute_result"
    }
   ],
   "source": [
    "len(data)"
   ]
  },
  {
   "cell_type": "code",
   "execution_count": 19,
   "metadata": {
    "colab": {
     "base_uri": "https://localhost:8080/",
     "height": 298
    },
    "id": "Ty4rMXKWQgwH",
    "outputId": "33b2139c-9bc1-43fb-973b-ed3d7e00599c"
   },
   "outputs": [
    {
     "data": {
      "text/plain": [
       "<AxesSubplot:xlabel='price_transformed', ylabel='Density'>"
      ]
     },
     "execution_count": 19,
     "metadata": {},
     "output_type": "execute_result"
    },
    {
     "data": {
      "image/png": "[encoded data removed]",
      "text/plain": [
       "<Figure size 640x480 with 1 Axes>"
      ]
     },
     "metadata": {},
     "output_type": "display_data"
    }
   ],
   "source": [
    "sns.kdeplot(data.price_transformed)"
   ]
  },
  {
   "cell_type": "code",
   "execution_count": 20,
   "metadata": {
    "id": "apei-tO8sqDY"
   },
   "outputs": [],
   "source": [
    "data['price_transformed_double'] = np.log(data.price_transformed)  # again doing log (double log scale)"
   ]
  },
  {
   "cell_type": "code",
   "execution_count": 21,
   "metadata": {
    "colab": {
     "base_uri": "https://localhost:8080/"
    },
    "id": "jmW5d3wisupv",
    "outputId": "77c95b3f-b0f4-4e57-f470-03f539777f6d"
   },
   "outputs": [
    {
     "data": {
      "text/plain": [
       "0.33092530655758573"
      ]
     },
     "execution_count": 21,
     "metadata": {},
     "output_type": "execute_result"
    }
   ],
   "source": [
    "data['price_transformed_double'].skew()"
   ]
  },
  {
   "cell_type": "code",
   "execution_count": 22,
   "metadata": {
    "id": "qK_s6n1ss3Zb"
   },
   "outputs": [],
   "source": [
    "list_3 = find_anomalies(data.price_transformed_double)"
   ]
  },
  {
   "cell_type": "code",
   "execution_count": 23,
   "metadata": {
    "colab": {
     "base_uri": "https://localhost:8080/"
    },
    "id": "vbs1CvGvs5gm",
    "outputId": "cdb9bd5b-0ae9-42a6-cb2c-1e05ce905bdc"
   },
   "outputs": [
    {
     "data": {
      "text/plain": [
       "251"
      ]
     },
     "execution_count": 23,
     "metadata": {},
     "output_type": "execute_result"
    }
   ],
   "source": [
    "len(list_3) #251/29580 =0.7%   this is how you can reduce the skewness of the data"
   ]
  },
  {
   "cell_type": "code",
   "execution_count": 24,
   "metadata": {
    "colab": {
     "base_uri": "https://localhost:8080/"
    },
    "id": "GFStMtnLs5jL",
    "outputId": "01842ece-14bc-44b0-c057-d155dd410bd9"
   },
   "outputs": [
    {
     "data": {
      "text/plain": [
       "29580"
      ]
     },
     "execution_count": 24,
     "metadata": {},
     "output_type": "execute_result"
    }
   ],
   "source": [
    "len(data)"
   ]
  },
  {
   "cell_type": "markdown",
   "metadata": {
    "id": "pDT2BCpPDmA3"
   },
   "source": [
    "- Anything below 40, or above 80 are considered as outliers"
   ]
  },
  {
   "cell_type": "markdown",
   "metadata": {
    "id": "mTyy5cUdDmA3"
   },
   "source": [
    "## Boxplots"
   ]
  },
  {
   "cell_type": "code",
   "execution_count": 25,
   "metadata": {
    "colab": {
     "base_uri": "https://localhost:8080/",
     "height": 295
    },
    "id": "XmIZLyqiDmA3",
    "outputId": "ee5b9bb5-b113-4e3b-df61-a2375d636858"
   },
   "outputs": [
    {
     "data": {
      "text/plain": [
       "<AxesSubplot:>"
      ]
     },
     "execution_count": 25,
     "metadata": {},
     "output_type": "execute_result"
    },
    {
     "data": {
      "image/png": "[encoded data removed]",
      "text/plain": [
       "<Figure size 640x480 with 1 Axes>"
      ]
     },
     "metadata": {},
     "output_type": "display_data"
    }
   ],
   "source": [
    "import seaborn as sns\n",
    "import matplotlib.pyplot as plt\n",
    "\n",
    "sns.boxplot(data=data)\n",
    "\n",
    "# in box plot visualy we can spot the outliers"
   ]
  },
  {
   "cell_type": "markdown",
   "metadata": {
    "id": "7H_O0wRSDmA4"
   },
   "source": [
    "The above code displays the plot below. \n",
    "- As you can see, it considers everything above 75 or below ~ -35 to be an outlier. The results are very close to method 1 above."
   ]
  },
  {
   "cell_type": "code",
   "execution_count": 26,
   "metadata": {
    "id": "1ucMcakhDmA4"
   },
   "outputs": [],
   "source": [
    "import pandas as pd\n",
    "\n",
    "df = pd.DataFrame(data)"
   ]
  },
  {
   "cell_type": "code",
   "execution_count": 27,
   "metadata": {
    "colab": {
     "base_uri": "https://localhost:8080/"
    },
    "id": "43tBqhDGDmA4",
    "outputId": "a4105981-00e7-4de0-af92-ff3bc07cd62a"
   },
   "outputs": [
    {
     "data": {
      "text/plain": [
       "29580"
      ]
     },
     "execution_count": 27,
     "metadata": {},
     "output_type": "execute_result"
    }
   ],
   "source": [
    "len(df)"
   ]
  },
  {
   "cell_type": "code",
   "execution_count": 28,
   "metadata": {
    "colab": {
     "base_uri": "https://localhost:8080/",
     "height": 468
    },
    "id": "lCkfUl4_DmA5",
    "outputId": "63a3a47c-cd12-497e-e12e-1b16e2a94a63"
   },
   "outputs": [
    {
     "data": {
      "text/html": [
       "<div>\n",
       "<style scoped>\n",
       "    .dataframe tbody tr th:only-of-type {\n",
       "        vertical-align: middle;\n",
       "    }\n",
       "\n",
       "    .dataframe tbody tr th {\n",
       "        vertical-align: top;\n",
       "    }\n",
       "\n",
       "    .dataframe thead th {\n",
       "        text-align: right;\n",
       "    }\n",
       "</style>\n",
       "<table border=\"1\" class=\"dataframe\">\n",
       "  <thead>\n",
       "    <tr style=\"text-align: right;\">\n",
       "      <th></th>\n",
       "      <th>datesold</th>\n",
       "      <th>postcode</th>\n",
       "      <th>price</th>\n",
       "      <th>propertyType</th>\n",
       "      <th>bedrooms</th>\n",
       "      <th>price_transformed</th>\n",
       "      <th>price_transformed_double</th>\n",
       "    </tr>\n",
       "  </thead>\n",
       "  <tbody>\n",
       "    <tr>\n",
       "      <th>0</th>\n",
       "      <td>2007-02-07 00:00:00</td>\n",
       "      <td>2607</td>\n",
       "      <td>525000</td>\n",
       "      <td>house</td>\n",
       "      <td>4</td>\n",
       "      <td>13.171154</td>\n",
       "      <td>2.578029</td>\n",
       "    </tr>\n",
       "    <tr>\n",
       "      <th>1</th>\n",
       "      <td>2007-02-27 00:00:00</td>\n",
       "      <td>2906</td>\n",
       "      <td>290000</td>\n",
       "      <td>house</td>\n",
       "      <td>3</td>\n",
       "      <td>12.577636</td>\n",
       "      <td>2.531920</td>\n",
       "    </tr>\n",
       "    <tr>\n",
       "      <th>2</th>\n",
       "      <td>2007-03-07 00:00:00</td>\n",
       "      <td>2905</td>\n",
       "      <td>328000</td>\n",
       "      <td>house</td>\n",
       "      <td>3</td>\n",
       "      <td>12.700769</td>\n",
       "      <td>2.541663</td>\n",
       "    </tr>\n",
       "    <tr>\n",
       "      <th>3</th>\n",
       "      <td>2007-03-09 00:00:00</td>\n",
       "      <td>2905</td>\n",
       "      <td>380000</td>\n",
       "      <td>house</td>\n",
       "      <td>4</td>\n",
       "      <td>12.847927</td>\n",
       "      <td>2.553182</td>\n",
       "    </tr>\n",
       "    <tr>\n",
       "      <th>4</th>\n",
       "      <td>2007-03-21 00:00:00</td>\n",
       "      <td>2906</td>\n",
       "      <td>310000</td>\n",
       "      <td>house</td>\n",
       "      <td>3</td>\n",
       "      <td>12.644328</td>\n",
       "      <td>2.537209</td>\n",
       "    </tr>\n",
       "    <tr>\n",
       "      <th>...</th>\n",
       "      <td>...</td>\n",
       "      <td>...</td>\n",
       "      <td>...</td>\n",
       "      <td>...</td>\n",
       "      <td>...</td>\n",
       "      <td>...</td>\n",
       "      <td>...</td>\n",
       "    </tr>\n",
       "    <tr>\n",
       "      <th>29575</th>\n",
       "      <td>2019-07-25 00:00:00</td>\n",
       "      <td>2900</td>\n",
       "      <td>500000</td>\n",
       "      <td>unit</td>\n",
       "      <td>3</td>\n",
       "      <td>13.122363</td>\n",
       "      <td>2.574318</td>\n",
       "    </tr>\n",
       "    <tr>\n",
       "      <th>29576</th>\n",
       "      <td>2019-07-25 00:00:00</td>\n",
       "      <td>2612</td>\n",
       "      <td>560000</td>\n",
       "      <td>unit</td>\n",
       "      <td>2</td>\n",
       "      <td>13.235692</td>\n",
       "      <td>2.582917</td>\n",
       "    </tr>\n",
       "    <tr>\n",
       "      <th>29577</th>\n",
       "      <td>2019-07-26 00:00:00</td>\n",
       "      <td>2912</td>\n",
       "      <td>464950</td>\n",
       "      <td>unit</td>\n",
       "      <td>2</td>\n",
       "      <td>13.049685</td>\n",
       "      <td>2.568764</td>\n",
       "    </tr>\n",
       "    <tr>\n",
       "      <th>29578</th>\n",
       "      <td>2019-07-26 00:00:00</td>\n",
       "      <td>2601</td>\n",
       "      <td>589000</td>\n",
       "      <td>unit</td>\n",
       "      <td>2</td>\n",
       "      <td>13.286181</td>\n",
       "      <td>2.586725</td>\n",
       "    </tr>\n",
       "    <tr>\n",
       "      <th>29579</th>\n",
       "      <td>2019-07-26 00:00:00</td>\n",
       "      <td>2612</td>\n",
       "      <td>775000</td>\n",
       "      <td>unit</td>\n",
       "      <td>2</td>\n",
       "      <td>13.560618</td>\n",
       "      <td>2.607170</td>\n",
       "    </tr>\n",
       "  </tbody>\n",
       "</table>\n",
       "<p>29580 rows × 7 columns</p>\n",
       "</div>"
      ],
      "text/plain": [
       "                  datesold  postcode   price propertyType  bedrooms  \\\n",
       "0      2007-02-07 00:00:00      2607  525000        house         4   \n",
       "1      2007-02-27 00:00:00      2906  290000        house         3   \n",
       "2      2007-03-07 00:00:00      2905  328000        house         3   \n",
       "3      2007-03-09 00:00:00      2905  380000        house         4   \n",
       "4      2007-03-21 00:00:00      2906  310000        house         3   \n",
       "...                    ...       ...     ...          ...       ...   \n",
       "29575  2019-07-25 00:00:00      2900  500000         unit         3   \n",
       "29576  2019-07-25 00:00:00      2612  560000         unit         2   \n",
       "29577  2019-07-26 00:00:00      2912  464950         unit         2   \n",
       "29578  2019-07-26 00:00:00      2601  589000         unit         2   \n",
       "29579  2019-07-26 00:00:00      2612  775000         unit         2   \n",
       "\n",
       "       price_transformed  price_transformed_double  \n",
       "0              13.171154                  2.578029  \n",
       "1              12.577636                  2.531920  \n",
       "2              12.700769                  2.541663  \n",
       "3              12.847927                  2.553182  \n",
       "4              12.644328                  2.537209  \n",
       "...                  ...                       ...  \n",
       "29575          13.122363                  2.574318  \n",
       "29576          13.235692                  2.582917  \n",
       "29577          13.049685                  2.568764  \n",
       "29578          13.286181                  2.586725  \n",
       "29579          13.560618                  2.607170  \n",
       "\n",
       "[29580 rows x 7 columns]"
      ]
     },
     "execution_count": 28,
     "metadata": {},
     "output_type": "execute_result"
    }
   ],
   "source": [
    "df"
   ]
  },
  {
   "cell_type": "code",
   "execution_count": 29,
   "metadata": {
    "colab": {
     "base_uri": "https://localhost:8080/",
     "height": 300
    },
    "id": "6apv-20bDmA5",
    "outputId": "64ad9417-2b84-4e0a-b45d-3beac1886e37"
   },
   "outputs": [
    {
     "data": {
      "text/html": [
       "<div>\n",
       "<style scoped>\n",
       "    .dataframe tbody tr th:only-of-type {\n",
       "        vertical-align: middle;\n",
       "    }\n",
       "\n",
       "    .dataframe tbody tr th {\n",
       "        vertical-align: top;\n",
       "    }\n",
       "\n",
       "    .dataframe thead th {\n",
       "        text-align: right;\n",
       "    }\n",
       "</style>\n",
       "<table border=\"1\" class=\"dataframe\">\n",
       "  <thead>\n",
       "    <tr style=\"text-align: right;\">\n",
       "      <th></th>\n",
       "      <th>postcode</th>\n",
       "      <th>price</th>\n",
       "      <th>bedrooms</th>\n",
       "      <th>price_transformed</th>\n",
       "      <th>price_transformed_double</th>\n",
       "    </tr>\n",
       "  </thead>\n",
       "  <tbody>\n",
       "    <tr>\n",
       "      <th>count</th>\n",
       "      <td>29580.000000</td>\n",
       "      <td>2.958000e+04</td>\n",
       "      <td>29580.000000</td>\n",
       "      <td>29580.000000</td>\n",
       "      <td>29580.000000</td>\n",
       "    </tr>\n",
       "    <tr>\n",
       "      <th>mean</th>\n",
       "      <td>2730.249730</td>\n",
       "      <td>6.097363e+05</td>\n",
       "      <td>3.250169</td>\n",
       "      <td>13.244695</td>\n",
       "      <td>2.583199</td>\n",
       "    </tr>\n",
       "    <tr>\n",
       "      <th>std</th>\n",
       "      <td>146.717292</td>\n",
       "      <td>2.817079e+05</td>\n",
       "      <td>0.951275</td>\n",
       "      <td>0.375214</td>\n",
       "      <td>0.028183</td>\n",
       "    </tr>\n",
       "    <tr>\n",
       "      <th>min</th>\n",
       "      <td>2600.000000</td>\n",
       "      <td>5.650000e+04</td>\n",
       "      <td>0.000000</td>\n",
       "      <td>10.941996</td>\n",
       "      <td>2.392608</td>\n",
       "    </tr>\n",
       "    <tr>\n",
       "      <th>25%</th>\n",
       "      <td>2607.000000</td>\n",
       "      <td>4.400000e+05</td>\n",
       "      <td>3.000000</td>\n",
       "      <td>12.994530</td>\n",
       "      <td>2.564529</td>\n",
       "    </tr>\n",
       "    <tr>\n",
       "      <th>50%</th>\n",
       "      <td>2615.000000</td>\n",
       "      <td>5.500000e+05</td>\n",
       "      <td>3.000000</td>\n",
       "      <td>13.217674</td>\n",
       "      <td>2.581555</td>\n",
       "    </tr>\n",
       "    <tr>\n",
       "      <th>75%</th>\n",
       "      <td>2905.000000</td>\n",
       "      <td>7.050000e+05</td>\n",
       "      <td>4.000000</td>\n",
       "      <td>13.465953</td>\n",
       "      <td>2.600165</td>\n",
       "    </tr>\n",
       "    <tr>\n",
       "      <th>max</th>\n",
       "      <td>2914.000000</td>\n",
       "      <td>8.000000e+06</td>\n",
       "      <td>5.000000</td>\n",
       "      <td>15.894952</td>\n",
       "      <td>2.766002</td>\n",
       "    </tr>\n",
       "  </tbody>\n",
       "</table>\n",
       "</div>"
      ],
      "text/plain": [
       "           postcode         price      bedrooms  price_transformed  \\\n",
       "count  29580.000000  2.958000e+04  29580.000000       29580.000000   \n",
       "mean    2730.249730  6.097363e+05      3.250169          13.244695   \n",
       "std      146.717292  2.817079e+05      0.951275           0.375214   \n",
       "min     2600.000000  5.650000e+04      0.000000          10.941996   \n",
       "25%     2607.000000  4.400000e+05      3.000000          12.994530   \n",
       "50%     2615.000000  5.500000e+05      3.000000          13.217674   \n",
       "75%     2905.000000  7.050000e+05      4.000000          13.465953   \n",
       "max     2914.000000  8.000000e+06      5.000000          15.894952   \n",
       "\n",
       "       price_transformed_double  \n",
       "count              29580.000000  \n",
       "mean                   2.583199  \n",
       "std                    0.028183  \n",
       "min                    2.392608  \n",
       "25%                    2.564529  \n",
       "50%                    2.581555  \n",
       "75%                    2.600165  \n",
       "max                    2.766002  "
      ]
     },
     "execution_count": 29,
     "metadata": {},
     "output_type": "execute_result"
    }
   ],
   "source": [
    "# Statistical information of the dataframe columns\n",
    "\n",
    "df.describe()"
   ]
  },
  {
   "cell_type": "markdown",
   "metadata": {
    "id": "g3FrIugGDmA6"
   },
   "source": [
    "### Inter Quartile Range\n",
    "\n",
    "#### IQR = Q3 - Q1"
   ]
  },
  {
   "cell_type": "code",
   "execution_count": 30,
   "metadata": {
    "id": "cED7vRuHDmA6"
   },
   "outputs": [],
   "source": [
    "list1 = [43, 54, 56, 61, 62, 66, 68, 69, 69, 70, 71, 72, 77, 78, 79, 85, 87, 88, 89, 93, 95, 96, 98, 99, 99]"
   ]
  },
  {
   "cell_type": "code",
   "execution_count": 31,
   "metadata": {
    "colab": {
     "base_uri": "https://localhost:8080/"
    },
    "id": "i8ZOdGDPDmA7",
    "outputId": "bb1e7668-51b0-4d6e-d143-fb6053d02a78"
   },
   "outputs": [
    {
     "data": {
      "text/plain": [
       "25"
      ]
     },
     "execution_count": 31,
     "metadata": {},
     "output_type": "execute_result"
    }
   ],
   "source": [
    "len(list1)"
   ]
  },
  {
   "cell_type": "code",
   "execution_count": 32,
   "metadata": {
    "colab": {
     "base_uri": "https://localhost:8080/"
    },
    "id": "2gYLgpWcDmA7",
    "outputId": "34cf465c-c46c-4b94-b0e2-801cec3441bd"
   },
   "outputs": [
    {
     "data": {
      "text/plain": [
       "99"
      ]
     },
     "execution_count": 32,
     "metadata": {},
     "output_type": "execute_result"
    }
   ],
   "source": [
    "max(list1)"
   ]
  },
  {
   "cell_type": "code",
   "execution_count": 33,
   "metadata": {
    "colab": {
     "base_uri": "https://localhost:8080/"
    },
    "id": "Qxygvte0DmA8",
    "outputId": "71ceb102-b3c4-4253-e390-a6ece98de04f"
   },
   "outputs": [
    {
     "data": {
      "text/plain": [
       "43"
      ]
     },
     "execution_count": 33,
     "metadata": {},
     "output_type": "execute_result"
    }
   ],
   "source": [
    "min(list1)"
   ]
  },
  {
   "cell_type": "code",
   "execution_count": 34,
   "metadata": {
    "colab": {
     "base_uri": "https://localhost:8080/"
    },
    "id": "CIjMWVD_DmA9",
    "outputId": "615d0c34-b9b4-4bdb-a2d2-71cd13ec6fe5"
   },
   "outputs": [
    {
     "data": {
      "text/plain": [
       "76.96"
      ]
     },
     "execution_count": 34,
     "metadata": {},
     "output_type": "execute_result"
    }
   ],
   "source": [
    "import statistics \n",
    "\n",
    "statistics.mean(list1)"
   ]
  },
  {
   "cell_type": "code",
   "execution_count": 35,
   "metadata": {
    "colab": {
     "base_uri": "https://localhost:8080/"
    },
    "id": "1Ck5XHQmOdJ5",
    "outputId": "1c7add9c-5d3c-492d-e6b2-fda4066005c5"
   },
   "outputs": [
    {
     "data": {
      "text/plain": [
       "[43,\n",
       " 54,\n",
       " 56,\n",
       " 61,\n",
       " 62,\n",
       " 66,\n",
       " 68,\n",
       " 69,\n",
       " 69,\n",
       " 70,\n",
       " 71,\n",
       " 72,\n",
       " 77,\n",
       " 78,\n",
       " 79,\n",
       " 85,\n",
       " 87,\n",
       " 88,\n",
       " 89,\n",
       " 93,\n",
       " 95,\n",
       " 96,\n",
       " 98,\n",
       " 99,\n",
       " 99]"
      ]
     },
     "execution_count": 35,
     "metadata": {},
     "output_type": "execute_result"
    }
   ],
   "source": [
    "sorted(list1)"
   ]
  },
  {
   "cell_type": "markdown",
   "metadata": {
    "id": "93XqsXRyDmA9"
   },
   "source": [
    "To find the 90th percentile for these (ordered) scores, start by multiplying 90 percent times the total number of scores, which gives 90% ∗ 25 = 0.90 ∗ 25 = 22.5 (the index). Rounding up to the nearest whole number, you get 23."
   ]
  },
  {
   "cell_type": "code",
   "execution_count": 36,
   "metadata": {
    "id": "-JdQ8O0yDmA-"
   },
   "outputs": [],
   "source": [
    "list2 = sorted(list1)"
   ]
  },
  {
   "cell_type": "code",
   "execution_count": 37,
   "metadata": {
    "colab": {
     "base_uri": "https://localhost:8080/"
    },
    "id": "OP_JNzxKDmA-",
    "outputId": "40f73c9d-3fc9-49ca-9d79-50da70756e0d"
   },
   "outputs": [
    {
     "data": {
      "text/plain": [
       "[43,\n",
       " 54,\n",
       " 56,\n",
       " 61,\n",
       " 62,\n",
       " 66,\n",
       " 68,\n",
       " 69,\n",
       " 69,\n",
       " 70,\n",
       " 71,\n",
       " 72,\n",
       " 77,\n",
       " 78,\n",
       " 79,\n",
       " 85,\n",
       " 87,\n",
       " 88,\n",
       " 89,\n",
       " 93,\n",
       " 95,\n",
       " 96,\n",
       " 98,\n",
       " 99,\n",
       " 99]"
      ]
     },
     "execution_count": 37,
     "metadata": {},
     "output_type": "execute_result"
    }
   ],
   "source": [
    "list2"
   ]
  },
  {
   "cell_type": "markdown",
   "metadata": {
    "id": "_L0nGbWiDmA-"
   },
   "source": [
    "Hence, 98 is the 90th percentile for this dataset"
   ]
  },
  {
   "cell_type": "markdown",
   "metadata": {
    "id": "zfdmWfsqDmA_"
   },
   "source": [
    "Now say you want to find the 20th percentile. Start by taking 0.20 x 25 = 5 (the index); this is a whole number, which tells you the 20th percentile is the average of the 5th and 6th values in the ordered data set (62 and 66)."
   ]
  },
  {
   "cell_type": "markdown",
   "metadata": {
    "id": "gKQGrc_aDmA_"
   },
   "source": [
    "so, 20th percentile is 62+66/2 = 64"
   ]
  },
  {
   "cell_type": "markdown",
   "metadata": {
    "id": "JY8zsiM5DmA_"
   },
   "source": [
    "The median (the 50th percentile) for the test scores is the 13th score: 77."
   ]
  }
 ],
 "metadata": {
  "colab": {
   "provenance": []
  },
  "kernelspec": {
   "display_name": "Python 3 (ipykernel)",
   "language": "python",
   "name": "python3"
  },
  "language_info": {
   "codemirror_mode": {
    "name": "ipython",
    "version": 3
   },
   "file_extension": ".py",
   "mimetype": "text/x-python",
   "name": "python",
   "nbconvert_exporter": "python",
   "pygments_lexer": "ipython3",
   "version": "3.9.13"
  }
 },
 "nbformat": 4,
 "nbformat_minor": 1
}
